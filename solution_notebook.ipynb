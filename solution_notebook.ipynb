{
 "cells": [
  {
   "cell_type": "markdown",
   "metadata": {},
   "source": [
    "# Autopilot Data Science Take Home"
   ]
  },
  {
   "cell_type": "markdown",
   "metadata": {},
   "source": [
    "## Tesla Coding Challenge\n",
    "-----\n",
    "This repository contains the code used to solve the problem described below. \n",
    "\n",
    "## Contents\n",
    "- `tesla_program.py` main program to run through the different questions. \n",
    "- `utils.py` a collection of helper functions saved as module for reuse.\n",
    "- `data` folder containing the files with 'csv' extension each corresponding to an individual car data.\n",
    "\n",
    "## Requirements:\n",
    "Python 3 is required along with the following modules:\n",
    "- numpy\n",
    "- pandas\n",
    "- scikit-learn (to use k-means clustering algorithm)\n",
    "```\n",
    "cd src\n",
    "pip install -r requirements\n",
    "```\n",
    "\n",
    "## Solution:\n",
    "**Question 1.1**: Compute the 5 least common values by total occurence\n",
    "```\n",
    "python tesla_program.py -q 1.1 -n 5 -a true\n",
    "```\n",
    "Big-O complexity: N + K*log(k); where N=row number, K=distinct values. \n",
    "Run time: 278.969 ms\n",
    "\n",
    "**Question 1.2**: Compute the 3 most common values by total time spent at that value\n",
    "```\n",
    "python tesla_program.py -q 1.2 -n 3 -a false\n",
    "```\n",
    "\n",
    "Big-O complexity: N + K*log(k); where N=row number, K=distinct values. \n",
    "Run time: 406.112 ms\n",
    "\n",
    "**Question 1.3**: Compute the 3 largest cycles. Return the amplitud of the cycle, value of the local minima, value of the local maxima, and the length of time between the minima and the maxima.\n",
    "```\n",
    "python tesla_program.py -q 1.3 -n 3 -a false\n",
    "```\n",
    "\n",
    "Big-O complexity: N + K*log(k); where N=row number, K=distinct values. \n",
    "Run time: 300.283 ms\n",
    "\n",
    "**Question 2**: Develop a generalized method to programmatically differentiate vehicles that are behaving differently due to higher damage accrual. \n",
    "```\n",
    "python tesla_program.py -q 2\n",
    "```\n",
    "\n",
    "Run time: 505983.279 ms\n",
    "\n",
    "\n",
    "## Notes\n",
    "For **Question 1.2** for each measurement (m) at a Timestep (t), I considered  the time spent is the time difference between the current timestep (t) and the previous timestep (t-1).\n",
    "\n",
    "For **Question 1.3** a cycle is defined as a progression from a given local minima/maxima to the next immediate local minima/maxima. The size of a cycle is determined by the amplitude of that cycle.\n",
    "\n",
    "The chart below represents a 1-minute extract from car 0 signal measurements. A cycle is the distance in y-axis from a local minima (red dot) to a local maxima (green dot).\n",
    "\n",
    "![alt text][image3]\n",
    "\n",
    "For **Question 2** I considered different methodologies such as Dynamic Time Warping,  and Time Series Motifs. \n",
    "\n",
    "Due to time constraints I chose a methodology I was most familiar with. To programmatically identify the cars that are not behaving properly, I used Anomaly Detection using K-means clustering of Time Series. While in practice this methodology may not be the most robust compared with other more recent options, it successfully works in detecting anomalous vehicles based on the distance from clusters. \n",
    "\n",
    "The algorithm  works as follows:\n",
    "\n",
    "**Training phase**:\n",
    "- Append together the timeseries data and split into segments of n samples. In this phase, use only data from vehicles that behave correctly. *For the current program I used segment length = 100 and slide length = 10.*\n",
    "- Form a space in n dimensions, with each segment representing one point. \n",
    "- Pass it to a K-means clustering algorithm to determine clustering of segment points and the centroids. Below are some shapes the cluster learned: \n",
    "![alt text][image2]\n",
    "\n",
    "**Testing phase**:\n",
    "- Pass individual vehicle signal data to the reconstruction algorithm that uses the centroids learned during training. \n",
    "- Poor reconstruction error on any individual segment indicates anomalous shape. *For the current program I determined a threshold of >150 when determining the 98th percentile Reconstruction error. The average error for vehicles properly functioning was of ~105, while those vehicles malfunctioning had an error of ~350. \n",
    "\n",
    "Here's an example of timeseries signal data of a vehicle behaving properly. i.e.: `Car_0`\n",
    "\n",
    "![alt text][image0]\n",
    "\n",
    "\n",
    "And here's the timeseries signal data of a vehicle malfunctioning. i.e.: `Car_7`\n",
    "\n",
    "![alt text][image1]\n",
    "\n",
    "---\n",
    "\n",
    "\n",
    "------\n",
    "\n",
    "[//]: # (Image References)\n",
    "\n",
    "[image0]: ./images/car_0_good.png \"Car 0\"\n",
    "[image1]: ./images/car_3_bad.png \"Car 3\"\n",
    "[image2]: ./images/library_of_shapes.png \"Segments of Time Series\"\n",
    "[image3]: ./images/min_max_cycles.png \"Cycles\""
   ]
  },
  {
   "cell_type": "markdown",
   "metadata": {},
   "source": [
    "## Problem Statement\n",
    "The Autopilot Data Infrastructure team frequently works with timeseries signal data coming from vehicles across our fleet. We  analyze these signals by extracting specific metrics to help us understand how users are interacting with the vehicle. Example metrics include: the most or least common values seen, the most or least time spent at given values, or the largest or smallest deltas seen in the signal.\n",
    "\n",
    "## Question I\n",
    "##### For this question, only use data for car_0 - this question should take ~40% of your time\n",
    "To that end, build a module that provides functionality to operate on a timeseries and allows for the following queries: \n",
    " - The top N most/least common values by total occurrence\n",
    " - The top N most/least common values by total time spent\n",
    " - The top N largest/smallest 'cycles' - we will define a cycle as a progression from a given local minima/maxima to the next immediate local minima/maxima. The size of a cycle is determined by the amplitude of that cycle."
   ]
  },
  {
   "cell_type": "markdown",
   "metadata": {},
   "source": [
    "Using this module and the sample data provided, please compute the following:\n",
    " - The 5 least common values by total occurence\n",
    " - The 3 most common values by total time spent at that value\n",
    " - The 3 largest cycles (largest delta between the minima and maxima points). When returning a cycle, please provide the value of the minima, the value of the maxima, and the amplitude of the cycle. Bonus if you can also provide the length of time between the minima and maxima"
   ]
  },
  {
   "cell_type": "markdown",
   "metadata": {},
   "source": [
    "## Question II\n",
    "##### For this question, use data for car_0 - car_9 - this question should take ~60% of your time\n",
    "\n",
    "We have provided drive unit torque data for 10 vehicles in the form of 10 timeseries. Two of these vehicles have experienced higher damage accrual than the other 8. Determine which 2 vehicles are the ones behaving differently and develop a generalized method to programmatically differentiate these 2 vehicles from the other 8.      "
   ]
  },
  {
   "cell_type": "markdown",
   "metadata": {
    "collapsed": true
   },
   "source": [
    "## Deliverable:\n",
    "Provide directions to run your code and to recreate the solutions to the above questions. This would include installing dependencies, specifying a path, or running the executable. Python is the standard expected language for this coding challenge. You may use any library. However, if using a library outside those available in the standard python installation (numpy, pandas, collections), make a note of it and explain why it is necessary.\n",
    "\n",
    "Provide solutions along with runtimes for each question.\n",
    "For any modules or funtions that you provide, document the Big-O complexity of each API call in your class as a function of the length of a given timeseries N.\n",
    "\n",
    "------"
   ]
  },
  {
   "cell_type": "markdown",
   "metadata": {},
   "source": [
    "## Question I"
   ]
  },
  {
   "cell_type": "code",
   "execution_count": 7,
   "metadata": {
    "collapsed": false
   },
   "outputs": [],
   "source": [
    "import pandas as pd\n",
    "import numpy as np\n",
    "from utils import utils\n",
    "\n",
    "df = pd.read_csv('src/data/car_0.csv')"
   ]
  },
  {
   "cell_type": "code",
   "execution_count": 8,
   "metadata": {
    "collapsed": true
   },
   "outputs": [],
   "source": [
    "from IPython.core.interactiveshell import InteractiveShell\n",
    "InteractiveShell.ast_node_interactivity = \"all\""
   ]
  },
  {
   "cell_type": "markdown",
   "metadata": {
    "collapsed": false
   },
   "source": [
    "#### 1. Compute the 5 least common values by total occurence"
   ]
  },
  {
   "cell_type": "code",
   "execution_count": 9,
   "metadata": {
    "collapsed": false
   },
   "outputs": [
    {
     "name": "stdout",
     "output_type": "stream",
     "text": [
      "CPU times: user 8 µs, sys: 2 µs, total: 10 µs\n",
      "Wall time: 36 µs\n"
     ]
    },
    {
     "data": {
      "text/plain": [
       "0    438.00\n",
       "1    267.25\n",
       "2    339.25\n",
       "3    266.00\n",
       "4    342.00\n",
       "Name: sig_value, dtype: float64"
      ]
     },
     "execution_count": 9,
     "metadata": {},
     "output_type": "execute_result"
    }
   ],
   "source": [
    "%time \n",
    "utils.top_N_common(df,5, ascending=True)\n"
   ]
  },
  {
   "cell_type": "code",
   "execution_count": 10,
   "metadata": {
    "collapsed": false
   },
   "outputs": [
    {
     "name": "stdout",
     "output_type": "stream",
     "text": [
      "CPU times: user 4 µs, sys: 1 µs, total: 5 µs\n",
      "Wall time: 9.06 µs\n"
     ]
    },
    {
     "data": {
      "text/plain": [
       "0    0.00\n",
       "1    0.25\n",
       "2    1.25\n",
       "3    0.75\n",
       "4   -0.25\n",
       "Name: sig_value, dtype: float64"
      ]
     },
     "execution_count": 10,
     "metadata": {},
     "output_type": "execute_result"
    }
   ],
   "source": [
    "%time \n",
    "utils.top_N_common(df,5, ascending=False)\n"
   ]
  },
  {
   "cell_type": "markdown",
   "metadata": {
    "collapsed": false
   },
   "source": [
    "#### 2. Compute the 3 most common values by total time spent at that value"
   ]
  },
  {
   "cell_type": "code",
   "execution_count": 8,
   "metadata": {
    "collapsed": false
   },
   "outputs": [
    {
     "name": "stdout",
     "output_type": "stream",
     "text": [
      "CPU times: user 3 µs, sys: 1 µs, total: 4 µs\n",
      "Wall time: 9.06 µs\n"
     ]
    },
    {
     "data": {
      "text/plain": [
       "0   -1024.00\n",
       "1       0.00\n",
       "2       0.25\n",
       "3       1.25\n",
       "4       3.00\n",
       "5       0.75\n",
       "6       1.00\n",
       "7       0.50\n",
       "8      -0.25\n",
       "9       1.50\n",
       "Name: sig_value, dtype: float64"
      ]
     },
     "execution_count": 8,
     "metadata": {},
     "output_type": "execute_result"
    }
   ],
   "source": [
    "%time\n",
    "utils.top_N_common_by_time(df, n=5, ascending=False)   "
   ]
  },
  {
   "cell_type": "markdown",
   "metadata": {},
   "source": [
    "#### 3. Compute the 3 largest cycles "
   ]
  },
  {
   "cell_type": "code",
   "execution_count": 10,
   "metadata": {
    "collapsed": false
   },
   "outputs": [
    {
     "name": "stdout",
     "output_type": "stream",
     "text": [
      "CPU times: user 3 µs, sys: 1 µs, total: 4 µs\n",
      "Wall time: 9.06 µs\n"
     ]
    },
    {
     "data": {
      "text/html": [
       "<div>\n",
       "<table border=\"1\" class=\"dataframe\">\n",
       "  <thead>\n",
       "    <tr style=\"text-align: right;\">\n",
       "      <th></th>\n",
       "      <th>amplitude_cycle</th>\n",
       "      <th>time_spent_cycle_sec</th>\n",
       "      <th>min</th>\n",
       "      <th>max</th>\n",
       "    </tr>\n",
       "  </thead>\n",
       "  <tbody>\n",
       "    <tr>\n",
       "      <th>21263</th>\n",
       "      <td>558.50</td>\n",
       "      <td>5.998</td>\n",
       "      <td>-120.75</td>\n",
       "      <td>437.75</td>\n",
       "    </tr>\n",
       "    <tr>\n",
       "      <th>17399</th>\n",
       "      <td>532.75</td>\n",
       "      <td>1.976</td>\n",
       "      <td>-99.00</td>\n",
       "      <td>433.75</td>\n",
       "    </tr>\n",
       "    <tr>\n",
       "      <th>17552</th>\n",
       "      <td>526.25</td>\n",
       "      <td>4.990</td>\n",
       "      <td>-88.25</td>\n",
       "      <td>438.00</td>\n",
       "    </tr>\n",
       "  </tbody>\n",
       "</table>\n",
       "</div>"
      ],
      "text/plain": [
       "       amplitude_cycle  time_spent_cycle_sec     min     max\n",
       "21263           558.50                 5.998 -120.75  437.75\n",
       "17399           532.75                 1.976  -99.00  433.75\n",
       "17552           526.25                 4.990  -88.25  438.00"
      ]
     },
     "execution_count": 10,
     "metadata": {},
     "output_type": "execute_result"
    }
   ],
   "source": [
    "%time \n",
    "utils.largest_cycle(df, 3, ascending=False) "
   ]
  },
  {
   "cell_type": "markdown",
   "metadata": {},
   "source": [
    "## Question II\n"
   ]
  },
  {
   "cell_type": "code",
   "execution_count": 2,
   "metadata": {
    "collapsed": false
   },
   "outputs": [
    {
     "ename": "NameError",
     "evalue": "name 'files' is not defined",
     "output_type": "error",
     "traceback": [
      "\u001b[0;31m---------------------------------------------------------------------------\u001b[0m",
      "\u001b[0;31mNameError\u001b[0m                                 Traceback (most recent call last)",
      "\u001b[0;32m<ipython-input-2-ad6956185fe3>\u001b[0m in \u001b[0;36m<module>\u001b[0;34m()\u001b[0m\n\u001b[1;32m      1\u001b[0m \u001b[0;34m\u001b[0m\u001b[0m\n\u001b[1;32m      2\u001b[0m \u001b[0mpath\u001b[0m \u001b[0;34m=\u001b[0m \u001b[0;34m'./data/'\u001b[0m\u001b[0;34m\u001b[0m\u001b[0m\n\u001b[0;32m----> 3\u001b[0;31m \u001b[0mall_cars\u001b[0m \u001b[0;34m=\u001b[0m \u001b[0mutils\u001b[0m\u001b[0;34m.\u001b[0m\u001b[0mread_data\u001b[0m\u001b[0;34m(\u001b[0m\u001b[0mfiles\u001b[0m\u001b[0;34m)\u001b[0m\u001b[0;34m\u001b[0m\u001b[0m\n\u001b[0m\u001b[1;32m      4\u001b[0m \u001b[0;34m\u001b[0m\u001b[0m\n",
      "\u001b[0;31mNameError\u001b[0m: name 'files' is not defined"
     ]
    }
   ],
   "source": [
    "\n",
    "path = './data/'\n",
    "all_cars = utils.read_data(files)\n",
    "\n"
   ]
  },
  {
   "cell_type": "code",
   "execution_count": 4,
   "metadata": {
    "collapsed": false
   },
   "outputs": [
    {
     "name": "stdout",
     "output_type": "stream",
     "text": [
      "['/Users/iglopezfrancos/anaconda/envs/p3env/lib/python3.5/site-packages/ipykernel/__main__.py', '-f', '/Users/iglopezfrancos/Library/Jupyter/runtime/kernel-66de241b-fb08-4dfa-a4b4-194f254ed7c4.json']\n"
     ]
    }
   ],
   "source": [
    "import sys\n",
    "print (sys.argv)"
   ]
  },
  {
   "cell_type": "code",
   "execution_count": null,
   "metadata": {
    "collapsed": true
   },
   "outputs": [],
   "source": []
  }
 ],
 "metadata": {
  "kernelspec": {
   "display_name": "Python 3",
   "language": "python",
   "name": "python3"
  },
  "language_info": {
   "codemirror_mode": {
    "name": "ipython",
    "version": 3
   },
   "file_extension": ".py",
   "mimetype": "text/x-python",
   "name": "python",
   "nbconvert_exporter": "python",
   "pygments_lexer": "ipython3",
   "version": "3.5.2"
  }
 },
 "nbformat": 4,
 "nbformat_minor": 1
}
